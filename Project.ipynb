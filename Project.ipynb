{
 "cells": [
  {
   "cell_type": "markdown",
   "metadata": {},
   "source": [
    "# Goal: using the technical indicators provided in the data set of winning trades, predict the value of the target variable *tipo* (type of trade -buy/sell) "
   ]
  },
  {
   "cell_type": "markdown",
   "metadata": {},
   "source": [
    "## Import and data loading"
   ]
  },
  {
   "cell_type": "code",
   "execution_count": null,
   "metadata": {},
   "outputs": [],
   "source": [
    "import numpy as np\n",
    "import pandas as pd\n",
    "import seaborn as sns\n",
    "import matplotlib.pyplot as plt\n",
    "from datetime import datetime\n",
    "from datetime import time\n",
    "from bokeh.plotting import figure, show, output_file\n",
    "from bokeh.io import output_notebook\n",
    "from bokeh.models import DatetimeTickFormatter\n",
    "from sklearn import model_selection, metrics, linear_model, datasets, feature_selection, tree, preprocessing\n",
    "from sklearn.model_selection import train_test_split"
   ]
  },
  {
   "cell_type": "code",
   "execution_count": null,
   "metadata": {},
   "outputs": [],
   "source": [
    "df1 = pd.read_csv('data/EURUSD_15m_BID.csv', sep=\",\")\n",
    "df2 = pd.read_csv('data/EURUSD_4h_profit.csv',sep=\",\")\n",
    "pd.set_option('display.max_columns', None)\n",
    "pd.set_option('display.max_rows', None)\n",
    "pd.set_option('display.max_colwidth', None)"
   ]
  },
  {
   "cell_type": "markdown",
   "metadata": {},
   "source": [
    "## DF1 - Price values for EURUSD pair"
   ]
  },
  {
   "cell_type": "markdown",
   "metadata": {},
   "source": [
    " **Variable Definitions**\n",
    " \n",
    "  - Open: price of the pair at the start of the time interval\n",
    "  - High: highest price of the pair within the duration of the time interval\n",
    "  - Low: minimum price of the pair within the duration of the time interval\n",
    "  - Close: price of the pair at the end of the time interval\n",
    "  - Volume: amount of trades that occured within the duration of the time interval"
   ]
  },
  {
   "cell_type": "code",
   "execution_count": null,
   "metadata": {},
   "outputs": [],
   "source": [
    "df1=df1.set_index(\"Time\")\n",
    "df1.index.names=[None]\n",
    "df1.head()"
   ]
  },
  {
   "cell_type": "markdown",
   "metadata": {},
   "source": [
    "## DF2 - Winning trades for EURUSD pair"
   ]
  },
  {
   "cell_type": "markdown",
   "metadata": {},
   "source": [
    " **Variable Definitions**\n",
    " \n",
    "  - **RSI**: The relative strength index (RSI) is a momentum indicator that measures the magnitude of recent price changes to evaluate overbought or oversold conditions in the price of a stock or other asset.\n",
    "\n",
    "$$RSI_\\text{step one}= 100− \\left[ \\frac{100}{1+\\frac{\\text {Average gain}}{\\text {Average loss}}} \\right]$$\n",
    "\n",
    "$$RSI_\\text{step two}= 100− \\left[ \\frac{100}{1+\\frac{\\text{Previous average gain}*13+ \\text{Current gain} }{\\text{Average average loss}*13+ \\text{Current loss} }} \\right]$$\n",
    "  \n",
    "  - **Stoch**: A stochastic oscillator is a momentum indicator comparing a particular closing price of a security to a range of its prices over a certain period of time. The sensitivity of the oscillator to market movements is reducible by adjusting that time period or by taking a moving average of the result.\n",
    "\n",
    "$$\\%K = \\left( \\frac{C-L14}{H14-L14} \\right) * 100 $$\n",
    "  \n",
    " \n",
    "  - **EMA**: An exponential moving average (EMA) is a type of moving average (MA) that places a greater weight and significance on the most recent data points. The below equations refer to the slope of the EMA over the last 20, 50, 100, and 200 days.\n",
    "   \n",
    "$$EMA_{Today} =  \\left( \\left( Value_{Today} * \\frac{Smoothing}{1+Days} \\right) \\right) + EMA_{Yesterday}* \\left( 1- \\left( \\frac{Smoothing}{1+Days} \\right) \\right)$$\n",
    "   \n",
    "  - ema20slope\n",
    "  - ema50slope\n",
    "  - ema100slope\n",
    "  - ema200slope<br><br>\n",
    "  - **std**: Standard Deviation, a statistical measure of a stock's volatility.\n",
    "\n",
    "  \n",
    "  - **mom**: This indicator compares the price of any given instrument to the price over a selected number of preceding periods. It is calculated by taking the difference in today's closing price and the closing price of n periods before. When the indicator is above 100 it means the price is rising, below 100 is represents a downward trend. \n",
    "  \n",
    "  \n",
    "$$MOM = \\left( \\frac{CP}{CPn} \\right) * 100$$<br>\n",
    "\n",
    "<center>    \n",
    "   <b>where:</b> <br>\n",
    "- C = most recent closing price<br>\n",
    "- L14 = lowest price traded of the previous 14 trading sessions<br>\n",
    "- H14 = highest price traded during the same 14-day period<br>\n",
    "- %K = current value of the stochastic indicator<br>\n",
    "</center>\n",
    "\n",
    "  - **BB_up_percen**:\n",
    "  \n",
    "  - **cci**: Commodity Channel Index​ (CCI) is a momentum-based oscillator used to help determine when an investment vehicle is reaching a condition of being overbought or oversold. It is also used to assess price trend direction and strength.\n",
    "  \n",
    "$$CCI = \\frac{\\text{Typical Price} - MA}{.015*\\text{Mean Deviation}}$$\n",
    "  \n",
    "$$\\text{Typical Price} = \\sum_{i=1}^{P} \\frac {High + Low + Close}{3}$$\n",
    "\n",
    "$$P = \\text{Number of Periods}$$\n",
    "\n",
    "$$MA = \\text{Moving Average} = \\frac {\\sum_{i=1}^{P} \\text{Typical Price}}{P}$$\n",
    " \n",
    "$$\\text{Mean Deviation} = \\frac{\\sum_{i=1}^{P} |\\text{Typical Price} - \\text{MA}|}{P}$$\n",
    "  \n",
    "  - **force**: The force index is a technical indicator that measures the amount of power used to move the price of an asset. The term and its formula were developed by psychologist and trader Alexander Elder and published in his 1993 book Trading for a Living. The force index uses price and volume to determine the amount of strength behind a price move.\n",
    "  \n",
    "$$\\text{FI} \\left( 1 \\right) = \\left( \\text{CCP - PCP} \\right) * \\text{VFI} \\left( 13 \\right) = \\text{13-Period EMA of FI} \\left( 1 \\right)$$<br>\n",
    "\n",
    "<center>    \n",
    "   <b>where:</b> <br>\n",
    "- FI = Force Index <br>\n",
    "- CCP = current close price <br>\n",
    "- PCP = Prevjous close price <br>\n",
    "- VFI = Volume force index <br>\n",
    "- EMA = Exponential moving average \n",
    "</center>\n",
    "  \n",
    "  \n",
    "  - **macd**: The MACD (moving average convergence divergence) charts the difference between two exponential moving averages (a longer period EMA subtracted to a short period MA). The most common settings applied to MACD are 26 periods EMA and a 12 period EMA. The MACD is positive when the EMA(12) is above the EMA(26) indicating that the rate of change of the shorter period MA is higher than the longer period MA and this indicates positive momentum. On the other hand, it is negative when the EMA(12) is below the EMA(26), the rate of change of the shorter period MA is lower than the longer period MA indicating negative momentum.\n",
    "  \n",
    "$$MACD=EMA_{12} − EMA_{26}$$\n",
    "\n",
    "  - **bearsPower**: The Bears Power oscillator was developed by Alexander Elder. It measures the difference between the lowest price and a 13-day Exponential Moving Average (EMA), plotted as a histogram. If the Bears Power indicator is below zero, it means sellers were able to drive price below the EMA. If the Bears Power indicator is above zero, it means buyers were able to keep the lowest price above the EMA\n",
    "  \n",
    "$$\\text{Bears Power} = Low - EMA_{13}$$\n",
    "  \n",
    "  - **bullsPower**:\n",
    "  \n",
    "$$\\text {Bulls Power} = High - EMA_{13}$$\n",
    "\n",
    "  - **WPR**: Williams %R, also known as the Williams Percent Range, is a type of momentum indicator that moves between 0 and -100 and measures overbought and oversold levels. The Williams %R may be used to find entry and exit points in the market. The indicator is very similar to the Stochastic oscillator and is used in the same way.\n",
    "  \n",
    "$$\\text{Williams Percentage Range} = \\frac{\\text{Highest High} - \\text{Close}}{\\text{Highest High}-\\text{Lowest Low}}$$\n",
    "\n",
    "  - **tipo**: type of operation (0=buy, 1=sell) **this is our target variable**"
   ]
  },
  {
   "cell_type": "code",
   "execution_count": null,
   "metadata": {},
   "outputs": [],
   "source": [
    "hour = df2['hour']\n",
    "df2.drop(labels=['hour'], axis=1,inplace = True)\n",
    "df2.insert(0, 'hour', hour)\n",
    "day = df2['dayOfWeek']\n",
    "df2.drop(labels=['dayOfWeek'],axis=1,inplace=True)\n",
    "df2.insert(1,'dayOfWeek',day)\n",
    "df2.head(10)"
   ]
  },
  {
   "cell_type": "code",
   "execution_count": null,
   "metadata": {},
   "outputs": [],
   "source": [
    "df2.describe()"
   ]
  },
  {
   "cell_type": "markdown",
   "metadata": {},
   "source": [
    "if order hour open = 16<br><br>\n",
    "rsi1 = rsi @ t-4 = rsi @ hour12<br>\n",
    "rsi2 = rsi @ t-8 = rsi @ hour8<br>\n",
    "rsi3 = rsi @ t-12 = rsi @ hour4<br>\n",
    "rsi4 = rsi @ t-16 = rsi @ hour0<br>\n",
    "rsi5 = rsi @ t-20 = rsi @ hour20 (previous day)<br>\n",
    "rsi6 = rsi @ t-24 = rsi @ hour16 (previous day)"
   ]
  },
  {
   "cell_type": "markdown",
   "metadata": {},
   "source": [
    "## Helper Functions"
   ]
  },
  {
   "cell_type": "markdown",
   "metadata": {},
   "source": [
    "**Below I defined the following helper functions that I use throughout my analysis of these data sets. In this section you will find:**\n",
    " - drop_col(srs) - this function takes a series *srs* and deletes the columns with the titles found in the series\n",
    " - move_cols(srs)- this function takes a series *srs* and inserst the columes with the titles found in the series at the beginning of the row\n",
    " - inc_day2(x) - this function takes an iterator *x* and increments the days according to the hour and dayOfWeek column values in the dataframe\n",
    " - iso_interval(lst,num) - this function takes list *lst* and adds *num* in order to get the names of the \"timeframed\" variables\n",
    " - create_iso(df,num) - this function takes the base dataframe *df* and creates a dataframe with the subset of var *num*"
   ]
  },
  {
   "cell_type": "code",
   "execution_count": null,
   "metadata": {},
   "outputs": [],
   "source": [
    "def drop_col(srs,df):\n",
    "    for x in srs:\n",
    "        del df[x]"
   ]
  },
  {
   "cell_type": "code",
   "execution_count": null,
   "metadata": {},
   "outputs": [],
   "source": [
    "def move_cols(srs):\n",
    "    for i in srs:\n",
    "        #name = \"my_\"+i\n",
    "        name = df2[i]\n",
    "        df2.drop(labels=[i], axis=1,inplace = True)\n",
    "        df2.insert(0, i, name)"
   ]
  },
  {
   "cell_type": "code",
   "execution_count": null,
   "metadata": {},
   "outputs": [],
   "source": [
    "def inc_day2(x):\n",
    "    day = pd.offsets.Day()\n",
    "    ts1 = df2['my_time'][x]\n",
    "    time1 = df2['hour'][x]\n",
    "    dow1 = df2['dayOfWeek'][x]\n",
    "    \n",
    "    timestampStr = ts1.strftime(\"%Y-%m-%d %H:%M:%S\")\n",
    "    print(\"Pre func: \" + timestampStr)\n",
    "    #print(\"time1: \" + str(time1))\n",
    "    print(\"index1: \" + str(x))\n",
    "    ts1 = df2['my_time'][x]\n",
    "    temp = 0\n",
    "    \n",
    "    days = {1:\"Monday\",2:\"Tuesday\",3:\"Wednesday\",4:\"Thursday\",5:\"Friday\"}\n",
    "\n",
    "    if(time1==0)&(x!=0):\n",
    "        if(dow1 == 1):\n",
    "            print(\"Monday\")\n",
    "            ts2 = ts1 + day*3\n",
    "        else:\n",
    "            print(days[dow1])\n",
    "            ts2 = ts1 + day\n",
    "            \n",
    "    else:\n",
    "        print(\"same day\")            \n",
    "        ts2 = ts1\n",
    "        \n",
    "        \n",
    "    timestampStr2 = ts2.strftime(\"%Y-%m-%d %H:%M:%S\")\n",
    "    print(\"Post func: \" + timestampStr2)\n",
    "    \n",
    "    return ts2\n",
    "        "
   ]
  },
  {
   "cell_type": "code",
   "execution_count": null,
   "metadata": {},
   "outputs": [],
   "source": [
    "def iso_interval(lst, num):\n",
    "    result = []\n",
    "    for i in lst:\n",
    "        i = i + str(num)\n",
    "        result.append(i)\n",
    "    result.append(\"tipo\")\n",
    "    #print(result)\n",
    "    return result"
   ]
  },
  {
   "cell_type": "code",
   "execution_count": null,
   "metadata": {},
   "outputs": [],
   "source": [
    "def create_iso(df,num):\n",
    "    keep = [\"rsi\",\"stoch\",\"ema20Slope\",\"ema50Slope\",\"ema100Slope\",\"ema200Slope\",\"std\",\"mom\",\"BB_up_percen\",\"cci\",\"force\",\"macd\",\"bearsPower\",\"bullsPower\",\"WPR\",\"close\"]\n",
    "    #for combination of multiple time frames\n",
    "        \n",
    "    result = iso_interval(keep, num)\n",
    "    df_temp = df.copy()\n",
    "    column_names=list(df_temp)\n",
    "    column_names_not = [i for i in column_names if i not in result]\n",
    "    #print(column_names_not)\n",
    "    drop_col(column_names_not,df_temp)\n",
    "    return df_temp"
   ]
  },
  {
   "cell_type": "code",
   "execution_count": null,
   "metadata": {},
   "outputs": [],
   "source": [
    "##checks for duplicate close values across all 6 indicator sets\n",
    "#df2[\"close_same\"] = np.where(((df2[\"close1\"]==df2[\"close2\"])&(df2[\"close2\"]==df2[\"close3\"])&(df2[\"close3\"]==df2[\"close4\"])&(df2[\"close4\"]==df2[\"close5\"])),1,0)\n",
    "#df2[\"close_same\"].value_counts()"
   ]
  },
  {
   "cell_type": "code",
   "execution_count": null,
   "metadata": {},
   "outputs": [],
   "source": [
    "##we ended up only using one set of these indicators (aka: rsi1,stoch1,ema20slope1, etc.) but we kept duplicate close just incase\n",
    "#duplicate_close = ['close2','close3','close4','close5','close6']\n",
    "#drop_col(duplicate_close)"
   ]
  },
  {
   "cell_type": "code",
   "execution_count": null,
   "metadata": {},
   "outputs": [],
   "source": [
    "#df2.head()"
   ]
  },
  {
   "cell_type": "code",
   "execution_count": null,
   "metadata": {},
   "outputs": [],
   "source": [
    "df2['time'] =(df2[\"hour\"].astype(str)+\":00:00\")\n",
    "\n",
    "df2['my_time'] = (pd.to_datetime(\"2015-8-1\"+ ' ' +df2['time']))\n",
    "\n",
    "date_series = [\"time\", \"my_time\"]\n",
    "\n",
    "move_cols(date_series)\n",
    "\n",
    "##debug\n",
    "#df2.head()"
   ]
  },
  {
   "cell_type": "code",
   "execution_count": null,
   "metadata": {},
   "outputs": [],
   "source": [
    "# for x in range(len(df2['my_time'])):\n",
    "#     #print(x)\n",
    "#     ts1 = df2['my_time'][x]\n",
    "#     str2 = df2['dayOfWeek'][x]\n",
    "#     str2_next = df2['dayOfWeek'][x+1]\n",
    "#     str3 = df2['time'][x]\n",
    "#     #print(str1)\n",
    "#     #print(str2)\n",
    "#     timestampStr = ts1.strftime(\"%Y-%m-%d %H:%M:%S\")\n",
    "#     res = inc_day2(x)\n",
    "#     print(\"---x=\" + str(x) + \"--dow=\" + str(str2)+\"--\"+\"time=\"+ str(str3) +\"--\")\n",
    "#     print(\"res: \" + str(res))\n",
    "#     print(\"-----------\")\n",
    "    \n",
    "#     df2['my_time'][x]=res\n",
    "\n",
    "#     i=1\n",
    "#     while(i<5):\n",
    "#         df2['my_time'][x+i]=res\n",
    "#         i+=1\n",
    "    \n",
    "    "
   ]
  },
  {
   "cell_type": "code",
   "execution_count": null,
   "metadata": {},
   "outputs": [],
   "source": [
    "#df2.head(50)"
   ]
  },
  {
   "cell_type": "code",
   "execution_count": null,
   "metadata": {},
   "outputs": [],
   "source": [
    "df2[\"dt\"] = df2[\"my_time\"].astype(str) + \" \" + df2[\"time\"]"
   ]
  },
  {
   "cell_type": "code",
   "execution_count": null,
   "metadata": {
    "scrolled": true
   },
   "outputs": [],
   "source": [
    "move_cols(['dt'])\n",
    "pd.to_datetime(df2.dt+' '+df2.time)"
   ]
  },
  {
   "cell_type": "code",
   "execution_count": null,
   "metadata": {},
   "outputs": [],
   "source": [
    "##debug\n",
    "#df2.head()"
   ]
  },
  {
   "cell_type": "code",
   "execution_count": null,
   "metadata": {},
   "outputs": [],
   "source": [
    "drop_col(['my_time', 'time','hour','dayOfWeek'],df2)"
   ]
  },
  {
   "cell_type": "code",
   "execution_count": null,
   "metadata": {},
   "outputs": [],
   "source": [
    "##this is for creating a time series, which we dont want to do at this point\n",
    "#df2=df2.set_index(\"dt\")\n",
    "#df2.index.names=[None]\n",
    "\n",
    "#debug\n",
    "#df2.head()"
   ]
  },
  {
   "cell_type": "code",
   "execution_count": null,
   "metadata": {},
   "outputs": [],
   "source": [
    "df2_tminus4 = create_iso(df2,1)"
   ]
  },
  {
   "cell_type": "code",
   "execution_count": null,
   "metadata": {},
   "outputs": [],
   "source": [
    "df2_tminus4.describe()"
   ]
  },
  {
   "cell_type": "code",
   "execution_count": null,
   "metadata": {},
   "outputs": [],
   "source": [
    "##Standard Scaler nor MinMaxScaler isn't appropriate for this set\n",
    "##Potentially a % change of each metric over the given time frames\n",
    "#scaler = preprocessing.StandardScaler()\n",
    "#scaler = preprocessing.MinMaxScaler()\n",
    "#df2_tminus4[df2_tminus4.columns] = scaler.fit_transform(df2_tminus4[df2_tminus4.columns])\n",
    "df2_tminus4.head(10)"
   ]
  },
  {
   "cell_type": "code",
   "execution_count": null,
   "metadata": {},
   "outputs": [],
   "source": [
    "sns.pairplot(df2_tminus4)"
   ]
  },
  {
   "cell_type": "code",
   "execution_count": null,
   "metadata": {},
   "outputs": [],
   "source": [
    "plt.subplots(figsize=(15,15))\n",
    "sns.heatmap(df2_tminus4.corr(),annot=True,cmap=\"YlGnBu\" )"
   ]
  },
  {
   "cell_type": "code",
   "execution_count": null,
   "metadata": {},
   "outputs": [],
   "source": [
    "df2_tminus8 = create_iso(df2,2)"
   ]
  },
  {
   "cell_type": "code",
   "execution_count": null,
   "metadata": {},
   "outputs": [],
   "source": [
    "##debug\n",
    "df2_tminus8.head()"
   ]
  },
  {
   "cell_type": "code",
   "execution_count": null,
   "metadata": {},
   "outputs": [],
   "source": [
    "sns.pairplot(df2_tminus8)"
   ]
  },
  {
   "cell_type": "code",
   "execution_count": null,
   "metadata": {},
   "outputs": [],
   "source": [
    "plt.subplots(figsize=(15,15))\n",
    "sns.heatmap(df2_tminus8.corr(),annot=True, cmap=\"YlGnBu\")"
   ]
  },
  {
   "cell_type": "code",
   "execution_count": null,
   "metadata": {},
   "outputs": [],
   "source": [
    "df2_tminus12 = create_iso(df2,3)"
   ]
  },
  {
   "cell_type": "code",
   "execution_count": null,
   "metadata": {},
   "outputs": [],
   "source": [
    "##debug\n",
    "#df2_tminus12.head()"
   ]
  },
  {
   "cell_type": "code",
   "execution_count": null,
   "metadata": {},
   "outputs": [],
   "source": [
    "sns.pairplot(df2_tminus12)"
   ]
  },
  {
   "cell_type": "code",
   "execution_count": null,
   "metadata": {},
   "outputs": [],
   "source": [
    "plt.subplots(figsize=(15,15))\n",
    "sns.heatmap(df2_tminus12.corr(),annot=True,cmap=\"YlGnBu\")"
   ]
  },
  {
   "cell_type": "code",
   "execution_count": null,
   "metadata": {},
   "outputs": [],
   "source": [
    "df2_tminus16 = create_iso(df2,4)"
   ]
  },
  {
   "cell_type": "code",
   "execution_count": null,
   "metadata": {},
   "outputs": [],
   "source": [
    "##debug\n",
    "#df2_tminus16.head()"
   ]
  },
  {
   "cell_type": "code",
   "execution_count": null,
   "metadata": {},
   "outputs": [],
   "source": [
    "sns.pairplot(df2_tminus16)"
   ]
  },
  {
   "cell_type": "code",
   "execution_count": null,
   "metadata": {},
   "outputs": [],
   "source": [
    "plt.subplots(figsize=(15,15))\n",
    "sns.heatmap(df2_tminus16.corr(),annot=True, cmap=\"YlGnBu\")"
   ]
  },
  {
   "cell_type": "code",
   "execution_count": null,
   "metadata": {},
   "outputs": [],
   "source": [
    "df2_tminus20 = create_iso(df2,5)"
   ]
  },
  {
   "cell_type": "code",
   "execution_count": null,
   "metadata": {},
   "outputs": [],
   "source": [
    "df2_tminus20.head()"
   ]
  },
  {
   "cell_type": "code",
   "execution_count": null,
   "metadata": {},
   "outputs": [],
   "source": [
    "sns.pairplot(df2_tminus20)"
   ]
  },
  {
   "cell_type": "code",
   "execution_count": null,
   "metadata": {},
   "outputs": [],
   "source": [
    "plt.subplots(figsize=(15,15))\n",
    "sns.heatmap(df2_tminus20.corr(),annot=True,cmap=\"YlGnBu\")"
   ]
  },
  {
   "cell_type": "code",
   "execution_count": null,
   "metadata": {},
   "outputs": [],
   "source": [
    " df2_tminus24 = create_iso(df2,6)"
   ]
  },
  {
   "cell_type": "code",
   "execution_count": null,
   "metadata": {},
   "outputs": [],
   "source": [
    "df2_tminus24.head() "
   ]
  },
  {
   "cell_type": "code",
   "execution_count": null,
   "metadata": {},
   "outputs": [],
   "source": [
    "sns.pairplot(df2_tminus24)"
   ]
  },
  {
   "cell_type": "code",
   "execution_count": null,
   "metadata": {},
   "outputs": [],
   "source": [
    "plt.subplots(figsize=(15,15))\n",
    "sns.heatmap(df2_tminus24.corr(),annot=True,cmap=\"YlGnBu\")"
   ]
  },
  {
   "cell_type": "code",
   "execution_count": null,
   "metadata": {},
   "outputs": [],
   "source": [
    "ema200_corr_avg = (-.073+-.072+-.071+-.07+-.069)/5\n",
    "print(ema200_corr_avg)"
   ]
  },
  {
   "cell_type": "code",
   "execution_count": null,
   "metadata": {},
   "outputs": [],
   "source": [
    "train, test = train_test_split(df2_tminus4, test_size=0.2)"
   ]
  },
  {
   "cell_type": "code",
   "execution_count": null,
   "metadata": {},
   "outputs": [],
   "source": [
    "X=train[['rsi1','macd1','ema20Slope1','ema50Slope1','ema100Slope1','ema200Slope1','bearsPower1','bullsPower1','WPR1']]"
   ]
  },
  {
   "cell_type": "code",
   "execution_count": null,
   "metadata": {},
   "outputs": [],
   "source": [
    "y = train['tipo']"
   ]
  },
  {
   "cell_type": "code",
   "execution_count": null,
   "metadata": {},
   "outputs": [],
   "source": [
    "bt_model = linear_model.LogisticRegression(solver='liblinear')\n",
    "bt_model.fit(X,y)"
   ]
  },
  {
   "cell_type": "code",
   "execution_count": null,
   "metadata": {},
   "outputs": [],
   "source": [
    "Xnew = test[['rsi1','macd1','ema20Slope1','ema50Slope1','ema100Slope1','ema200Slope1','bearsPower1','bullsPower1','WPR1']]"
   ]
  },
  {
   "cell_type": "code",
   "execution_count": null,
   "metadata": {},
   "outputs": [],
   "source": [
    "test_action = bt_model.predict(Xnew)\n",
    "print(metrics.accuracy_score(test['tipo'],test_action))"
   ]
  },
  {
   "cell_type": "code",
   "execution_count": null,
   "metadata": {},
   "outputs": [],
   "source": [
    "print(\"intercept\")\n",
    "beta_0 = bt_model.intercept_[0]\n",
    "print(beta_0)\n",
    "beta_1 = bt_model.coef_[0][0]\n",
    "beta_2 = bt_model.coef_[0][1]\n",
    "beta_3 = bt_model.coef_[0][2]\n",
    "beta_4 = bt_model.coef_[0][3]\n",
    "beta_5 = bt_model.coef_[0][4]\n",
    "beta_6 = bt_model.coef_[0][5]\n",
    "beta_7 = bt_model.coef_[0][6]\n",
    "beta_8 = bt_model.coef_[0][7]\n",
    "beta_9 = bt_model.coef_[0][8]\n",
    "print(\"coefs\")\n",
    "print(beta_1)\n",
    "print(beta_2)\n",
    "print(beta_3)\n",
    "print(beta_4)\n",
    "print(beta_5)\n",
    "print(beta_6)\n",
    "print(beta_7)\n",
    "print(beta_8)\n",
    "print(beta_9)"
   ]
  },
  {
   "cell_type": "code",
   "execution_count": null,
   "metadata": {},
   "outputs": [],
   "source": [
    "bt_model.predict_proba(Xnew)[:,1]"
   ]
  },
  {
   "cell_type": "code",
   "execution_count": null,
   "metadata": {},
   "outputs": [],
   "source": [
    "bt_model.score(X,y)"
   ]
  },
  {
   "cell_type": "markdown",
   "metadata": {},
   "source": [
    "## testing different input"
   ]
  },
  {
   "cell_type": "code",
   "execution_count": null,
   "metadata": {},
   "outputs": [],
   "source": [
    "X2=train[['close1','std1','macd1','force1','WPR1','bullsPower1']]"
   ]
  },
  {
   "cell_type": "code",
   "execution_count": null,
   "metadata": {},
   "outputs": [],
   "source": [
    "bt_model2 = linear_model.LogisticRegression(solver='liblinear')\n",
    "bt_model2.fit(X2,y)"
   ]
  },
  {
   "cell_type": "code",
   "execution_count": null,
   "metadata": {},
   "outputs": [],
   "source": [
    "Xnew2 = test[['close1','std1','macd1','force1','WPR1','bullsPower1']]"
   ]
  },
  {
   "cell_type": "code",
   "execution_count": null,
   "metadata": {},
   "outputs": [],
   "source": [
    "test_action2 = bt_model2.predict(Xnew2)\n",
    "print(metrics.accuracy_score(test['tipo'],test_action2))"
   ]
  },
  {
   "cell_type": "code",
   "execution_count": null,
   "metadata": {},
   "outputs": [],
   "source": [
    "bt_model2.score(X2,y)"
   ]
  },
  {
   "cell_type": "markdown",
   "metadata": {},
   "source": [
    "## Linear Regression with all inputs"
   ]
  },
  {
   "cell_type": "code",
   "execution_count": null,
   "metadata": {},
   "outputs": [],
   "source": [
    "cols = list(df2_tminus4.columns)"
   ]
  },
  {
   "cell_type": "code",
   "execution_count": null,
   "metadata": {},
   "outputs": [],
   "source": [
    "X3=train[cols]"
   ]
  },
  {
   "cell_type": "code",
   "execution_count": null,
   "metadata": {},
   "outputs": [],
   "source": [
    "new_X3 = X3.drop(['tipo'],axis=1)"
   ]
  },
  {
   "cell_type": "code",
   "execution_count": null,
   "metadata": {},
   "outputs": [],
   "source": [
    "new_X3.head()"
   ]
  },
  {
   "cell_type": "code",
   "execution_count": null,
   "metadata": {},
   "outputs": [],
   "source": [
    "bt_model3 = linear_model.LogisticRegression(solver='liblinear')\n",
    "bt_model3.fit(new_X3,y)"
   ]
  },
  {
   "cell_type": "code",
   "execution_count": null,
   "metadata": {},
   "outputs": [],
   "source": [
    "Xnew3 = test[cols].drop(['tipo'],axis=1)"
   ]
  },
  {
   "cell_type": "code",
   "execution_count": null,
   "metadata": {},
   "outputs": [],
   "source": [
    "test_action3 = bt_model3.predict(Xnew3)\n",
    "print(metrics.accuracy_score(test['tipo'],test_action3))"
   ]
  },
  {
   "cell_type": "code",
   "execution_count": null,
   "metadata": {},
   "outputs": [],
   "source": [
    "bt_model3.score(new_X3,y)"
   ]
  },
  {
   "cell_type": "markdown",
   "metadata": {},
   "source": [
    "## Decision Tree Classifier"
   ]
  },
  {
   "cell_type": "code",
   "execution_count": null,
   "metadata": {},
   "outputs": [],
   "source": [
    "df2_tminus4.head()"
   ]
  },
  {
   "cell_type": "code",
   "execution_count": null,
   "metadata": {},
   "outputs": [],
   "source": [
    "#removing some of the \"noise\" - redundant or non-correlated indicators\n",
    "drop_col(['std1','BB_up_percen1','bearsPower1','bullsPower1','force1','WPR1'],df2_tminus4)"
   ]
  },
  {
   "cell_type": "code",
   "execution_count": null,
   "metadata": {},
   "outputs": [],
   "source": [
    "df2_tminus4.head()"
   ]
  },
  {
   "cell_type": "code",
   "execution_count": null,
   "metadata": {},
   "outputs": [],
   "source": [
    "actions = tree.DecisionTreeClassifier()\n",
    "train_tree, test_tree = train_test_split(df2_tminus4, test_size=0.2)"
   ]
  },
  {
   "cell_type": "code",
   "execution_count": null,
   "metadata": {},
   "outputs": [],
   "source": [
    "train_tree2 = train_tree.drop(['tipo'],axis=1)"
   ]
  },
  {
   "cell_type": "code",
   "execution_count": null,
   "metadata": {},
   "outputs": [],
   "source": [
    "test_tree2 = test_tree.drop(['tipo'],axis=1)"
   ]
  },
  {
   "cell_type": "code",
   "execution_count": null,
   "metadata": {},
   "outputs": [],
   "source": [
    "actions.fit(train_tree2, train_tree['tipo'])"
   ]
  },
  {
   "cell_type": "code",
   "execution_count": null,
   "metadata": {},
   "outputs": [],
   "source": [
    "test_action = actions.predict(test_tree2)\n",
    "print(metrics.accuracy_score(test_tree['tipo'],test_action))"
   ]
  },
  {
   "cell_type": "markdown",
   "metadata": {},
   "source": [
    "we achieve a prediction accuracy of **78%** using the Decision Tree Classification model !!"
   ]
  },
  {
   "cell_type": "code",
   "execution_count": null,
   "metadata": {},
   "outputs": [],
   "source": [
    "conf_matrix = metrics.confusion_matrix(test_tree['tipo'],test_action)\n",
    "conf_matrix"
   ]
  },
  {
   "cell_type": "markdown",
   "metadata": {},
   "source": [
    "Below are the results of our Decision Tree Classifier on our test set:"
   ]
  },
  {
   "cell_type": "markdown",
   "metadata": {},
   "source": [
    "|                       |  Predicted Sell|  Predicted Buy |\n",
    "|---------------------:|:---------------------:|:---------------:|\n",
    "| **Actual Sell** |           358           |       101         |    0              |    0              |\n",
    "| **Actual Buy**      |            96          |        341        |    \n"
   ]
  }
 ],
 "metadata": {
  "kernelspec": {
   "display_name": "Python 3",
   "language": "python",
   "name": "python3"
  },
  "language_info": {
   "codemirror_mode": {
    "name": "ipython",
    "version": 3
   },
   "file_extension": ".py",
   "mimetype": "text/x-python",
   "name": "python",
   "nbconvert_exporter": "python",
   "pygments_lexer": "ipython3",
   "version": "3.7.6"
  }
 },
 "nbformat": 4,
 "nbformat_minor": 2
}
